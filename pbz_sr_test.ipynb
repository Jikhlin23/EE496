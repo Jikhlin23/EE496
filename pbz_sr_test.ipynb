{
 "cells": [
  {
   "cell_type": "code",
   "execution_count": null,
   "id": "initial_id",
   "metadata": {
    "collapsed": true
   },
   "outputs": [],
   "source": [
    "import sys\n",
    "from pbz60 import PBZ60\n",
    "from sr830 import SR830\n",
    "from pbz_sr import Plotter\n",
    "\n",
    "def main():\n",
    "    # Initialize the PBZ60 power supply and SR830 lock-in amplifier\n",
    "    # Note: Replace with actual connection details (e.g., GPIB address)\n",
    "    pbz = PBZ60(address=\"GPIB0::1::INSTR\")\n",
    "    sr = SR830(address=\"GPIB0::8::INSTR\")\n",
    "\n",
    "    # Set measurement parameters\n",
    "    start_current = 0.0  # Starting current in Amperes\n",
    "    end_current = 0.001  # Ending current in Amperes\n",
    "    number_of_points = 11  # Number of current points in the sweep\n",
    "    number_of_repeats = 3  # Number of measurement cycles\n",
    "    sampling_points = 5  # Number of samples per current point\n",
    "    time_of_sleep = 0.1  # Delay between samples in seconds\n",
    "    trace_mode = True  # Enable trace mode (reverse current sweep after each repeat)\n",
    "    note_string = \"Sample measurement with PBZ60 and SR830\"\n",
    "\n",
    "    # Create Plotter instance and start the measurement\n",
    "    plotter = Plotter(\n",
    "        pbz=pbz,\n",
    "        sr=sr,\n",
    "        start_Current=start_current,\n",
    "        End_current=end_current,\n",
    "        number_of_points=number_of_points,\n",
    "        number_of_repeats=number_of_repeats,\n",
    "        sampling_points=sampling_points,\n",
    "        time_of_sleep=time_of_sleep,\n",
    "        trace_mode=trace_mode,\n",
    "        note_string=note_string\n",
    "    )\n",
    "\n",
    "if __name__ == \"__main__\":\n",
    "    main()"
   ]
  }
 ],
 "metadata": {
  "kernelspec": {
   "display_name": "Python 3",
   "language": "python",
   "name": "python3"
  },
  "language_info": {
   "codemirror_mode": {
    "name": "ipython",
    "version": 2
   },
   "file_extension": ".py",
   "mimetype": "text/x-python",
   "name": "python",
   "nbconvert_exporter": "python",
   "pygments_lexer": "ipython2",
   "version": "2.7.6"
  }
 },
 "nbformat": 4,
 "nbformat_minor": 5
}
