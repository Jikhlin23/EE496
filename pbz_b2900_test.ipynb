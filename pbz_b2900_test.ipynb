{
 "cells": [
  {
   "cell_type": "code",
   "execution_count": null,
   "id": "774b992e",
   "metadata": {},
   "outputs": [],
   "source": [
    "import sys\n",
    "from pbz_b2900 import MeasurementApp\n",
    "from pbz60 import PBZController\n",
    "from b2900 import B2900Controller\n",
    "\n",
    "def main():\n",
    "    # Initialize the PBZ60 power supply and B2900 SMU\n",
    "    # Note: Replace with actual connection details (e.g., VISA resource strings)\n",
    "    pbz_resource = \"GPIB0::1::INSTR\"\n",
    "    b2900_resource = \"GPIB0::2::INSTR\"\n",
    "\n",
    "    # Set measurement parameters\n",
    "    pbz_start_current = -0.2 # Starting PBZ current in Amperes\n",
    "    pbz_end_current = 0.2  # Ending PBZ current in Amperes\n",
    "    steps_per_sweep = 21  # Number of current points in the sweep\n",
    "    number_of_loops = 2  # Number of measurement loops (forward + backward)\n",
    "    sampling_points = 3  # Number of voltage samples per point\n",
    "    time_of_sleep = 0.2  # Delay between samples in seconds\n",
    "    keysight_current_values = [1e-6, 2e-6, 3e-6]  # Constant B2900 current values in Amperes\n",
    "    note_string = \"Sample measurement with PBZ60 and B2900\"\n",
    "    expt_name = \"test_experiment\"\n",
    "\n",
    "    # Create MeasurementApp instance and run the measurement\n",
    "    app = MeasurementApp(\n",
    "        pbz_resource=pbz_resource,\n",
    "        b2900_resource=b2900_resource,\n",
    "        pbz_start_current=pbz_start_current,\n",
    "        pbz_end_current=pbz_end_current,\n",
    "        steps_per_sweep=steps_per_sweep,\n",
    "        number_of_loops=number_of_loops,\n",
    "        sampling_points=sampling_points,\n",
    "        time_of_sleep=time_of_sleep,\n",
    "        keysight_current_values=keysight_current_values,\n",
    "        note_string=note_string,\n",
    "        expt_name=expt_name\n",
    "    )\n",
    "\n",
    "    # Run the application\n",
    "    sys.exit(app.run())\n",
    "\n",
    "if __name__ == \"__main__\":\n",
    "    main()"
   ]
  }
 ],
 "metadata": {
  "language_info": {
   "name": "python"
  }
 },
 "nbformat": 4,
 "nbformat_minor": 5
}
