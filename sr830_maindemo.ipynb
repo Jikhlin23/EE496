{
 "cells": [
  {
   "cell_type": "code",
   "execution_count": null,
   "id": "5bfcdbfd",
   "metadata": {},
   "outputs": [],
   "source": [
    "# Import the class (assume it's in a file called sr830_wrapper.py)\n",
    "from sr830 import SR830Wrapper\n",
    "\n",
    "# Initialize the instrument (make sure your GPIB address is correct)\n",
    "sr = SR830Wrapper(name='lockin', address='GPIB0::8::INSTR')\n",
    "\n",
    "# -----------------------------\n",
    "# 1. Set key operating parameters\n",
    "# -----------------------------\n",
    "sr.set_sine_out_amplitude(0.5)       # Volts\n",
    "sr.set_frequency(1234.0)             # Hz\n",
    "sr.set_phase(10.0)                   # Degrees\n",
    "sr.set_sensitivity('200e-6')         # 200 µV\n",
    "sr.set_time_constant('300 ms')       # Filter time constant\n",
    "sr.set_reference_source('internal')  # or 'external'\n",
    "sr.set_harmonic(1)                   # First harmonic\n",
    "sr.set_input_config('A-B')           # A-B or A\n",
    "sr.set_input_coupling('AC')          # AC or DC\n",
    "sr.set_ext_trigger(False)            # External trigger off\n",
    "\n",
    "# -----------------------------\n",
    "# 2. Run auto-config functions\n",
    "# -----------------------------\n",
    "sr.auto_phase()\n",
    "sr.auto_gain()\n",
    "sr.auto_reserve()\n",
    "\n",
    "# -----------------------------\n",
    "# 3. Read and print all values\n",
    "# -----------------------------\n",
    "values = sr.get_all()\n",
    "\n",
    "print(\"\\n===== SR830 LOCK-IN READINGS =====\")\n",
    "for key, val in values.items():\n",
    "    print(f\"{key}: {val}\")\n",
    "\n",
    "# -----------------------------\n",
    "# 4. Clean up\n",
    "# -----------------------------\n",
    "sr.close()\n",
    "print(\"\\nConnection closed.\")\n"
   ]
  }
 ],
 "metadata": {
  "language_info": {
   "name": "python"
  }
 },
 "nbformat": 4,
 "nbformat_minor": 5
}
